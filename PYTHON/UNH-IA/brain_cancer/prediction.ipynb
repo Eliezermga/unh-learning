{
 "cells": [
  {
   "cell_type": "markdown",
   "metadata": {},
   "source": [
    "# **Import needed libraries**"
   ]
  },
  {
   "cell_type": "code",
   "execution_count": 2,
   "metadata": {
    "_cell_guid": "b1076dfc-b9ad-4769-8c92-a6c4dae69d19",
    "_uuid": "8f2839f25d086af736a60e9eeb907d3b93b6e0e5",
    "execution": {
     "iopub.execute_input": "2025-02-04T00:01:57.479727Z",
     "iopub.status.busy": "2025-02-04T00:01:57.479409Z",
     "iopub.status.idle": "2025-02-04T00:01:57.484855Z",
     "shell.execute_reply": "2025-02-04T00:01:57.483933Z",
     "shell.execute_reply.started": "2025-02-04T00:01:57.479704Z"
    }
   },
   "outputs": [
    {
     "ename": "ModuleNotFoundError",
     "evalue": "No module named 'tensorflow'",
     "output_type": "error",
     "traceback": [
      "\u001b[1;31m---------------------------------------------------------------------------\u001b[0m",
      "\u001b[1;31mModuleNotFoundError\u001b[0m                       Traceback (most recent call last)",
      "Cell \u001b[1;32mIn[2], line 8\u001b[0m\n\u001b[0;32m      6\u001b[0m \u001b[38;5;28;01mfrom\u001b[39;00m\u001b[38;5;250m \u001b[39m\u001b[38;5;21;01msklearn\u001b[39;00m\u001b[38;5;21;01m.\u001b[39;00m\u001b[38;5;21;01mmodel_selection\u001b[39;00m\u001b[38;5;250m \u001b[39m\u001b[38;5;28;01mimport\u001b[39;00m train_test_split\n\u001b[0;32m      7\u001b[0m \u001b[38;5;28;01mfrom\u001b[39;00m\u001b[38;5;250m \u001b[39m\u001b[38;5;21;01msklearn\u001b[39;00m\u001b[38;5;21;01m.\u001b[39;00m\u001b[38;5;21;01mmetrics\u001b[39;00m\u001b[38;5;250m \u001b[39m\u001b[38;5;28;01mimport\u001b[39;00m confusion_matrix\n\u001b[1;32m----> 8\u001b[0m \u001b[38;5;28;01mimport\u001b[39;00m\u001b[38;5;250m \u001b[39m\u001b[38;5;21;01mtensorflow\u001b[39;00m\u001b[38;5;250m \u001b[39m\u001b[38;5;28;01mas\u001b[39;00m\u001b[38;5;250m \u001b[39m\u001b[38;5;21;01mtf\u001b[39;00m\n\u001b[0;32m      9\u001b[0m \u001b[38;5;28;01mfrom\u001b[39;00m\u001b[38;5;250m \u001b[39m\u001b[38;5;21;01mtensorflow\u001b[39;00m\u001b[38;5;250m \u001b[39m\u001b[38;5;28;01mimport\u001b[39;00m keras\n\u001b[0;32m     10\u001b[0m \u001b[38;5;28;01mfrom\u001b[39;00m\u001b[38;5;250m \u001b[39m\u001b[38;5;21;01mtensorflow\u001b[39;00m\u001b[38;5;21;01m.\u001b[39;00m\u001b[38;5;21;01mkeras\u001b[39;00m\u001b[38;5;21;01m.\u001b[39;00m\u001b[38;5;21;01mlayers\u001b[39;00m\u001b[38;5;250m \u001b[39m\u001b[38;5;28;01mimport\u001b[39;00m Dense, Conv2D, MaxPooling2D, Flatten, Dropout\n",
      "\u001b[1;31mModuleNotFoundError\u001b[0m: No module named 'tensorflow'"
     ]
    }
   ],
   "source": [
    "import os\n",
    "import pandas as pd\n",
    "import numpy as np\n",
    "import matplotlib.pyplot as plt\n",
    "import seaborn as sns\n",
    "from sklearn.model_selection import train_test_split\n",
    "from sklearn.metrics import confusion_matrix\n",
    "import tensorflow as tf\n",
    "from tensorflow import keras\n",
    "from tensorflow.keras.layers import Dense, Conv2D, MaxPooling2D, Flatten, Dropout\n",
    "from tensorflow.keras.models import Sequential\n",
    "from tensorflow.keras.optimizers import Adamax\n",
    "from tqdm import tqdm\n",
    "from tensorflow.keras.preprocessing.image import ImageDataGenerator\n",
    "from PIL import Image\n",
    "import warnings\n",
    "warnings.filterwarnings('ignore')\n"
   ]
  },
  {
   "cell_type": "code",
   "execution_count": 4,
   "metadata": {},
   "outputs": [
    {
     "name": "stdout",
     "output_type": "stream",
     "text": [
      "zsh:1: command not found: ls\r\n"
     ]
    }
   ],
   "source": []
  },
  {
   "cell_type": "markdown",
   "metadata": {},
   "source": [
    "### Chargement des donnees"
   ]
  },
  {
   "cell_type": "code",
   "execution_count": 5,
   "metadata": {
    "execution": {
     "iopub.execute_input": "2025-02-03T20:32:30.977017Z",
     "iopub.status.busy": "2025-02-03T20:32:30.976590Z",
     "iopub.status.idle": "2025-02-03T20:32:31.069819Z",
     "shell.execute_reply": "2025-02-03T20:32:31.069048Z",
     "shell.execute_reply.started": "2025-02-03T20:32:30.976996Z"
    }
   },
   "outputs": [
    {
     "name": "stderr",
     "output_type": "stream",
     "text": [
      "100%|███████████████████████████████████| 1457/1457 [00:00<00:00, 642327.19it/s]\n",
      "100%|██████████████████████████████████| 1595/1595 [00:00<00:00, 1098508.19it/s]\n",
      "100%|██████████████████████████████████| 1321/1321 [00:00<00:00, 1180374.01it/s]\n",
      "100%|██████████████████████████████████| 1339/1339 [00:00<00:00, 1249982.87it/s]\n"
     ]
    }
   ],
   "source": [
    "Train_df = 'data/Training'\n",
    "\n",
    "filepaths = []\n",
    "labels = []\n",
    "folds = os.listdir(Train_df)\n",
    "for fold in folds:\n",
    "    FoldPath = os.path.join(Train_df, fold)\n",
    "    files = os.listdir(FoldPath)\n",
    "    for file in tqdm(files):\n",
    "        filepath = os.path.join(FoldPath,file)\n",
    "        filepaths.append(filepath)\n",
    "        labels.append(fold)"
   ]
  },
  {
   "cell_type": "code",
   "execution_count": 6,
   "metadata": {
    "execution": {
     "iopub.execute_input": "2025-02-03T20:32:31.071460Z",
     "iopub.status.busy": "2025-02-03T20:32:31.071160Z",
     "iopub.status.idle": "2025-02-03T20:32:31.076791Z",
     "shell.execute_reply": "2025-02-03T20:32:31.076081Z",
     "shell.execute_reply.started": "2025-02-03T20:32:31.071438Z"
    }
   },
   "outputs": [
    {
     "name": "stdout",
     "output_type": "stream",
     "text": [
      "5712\n",
      "5712\n"
     ]
    }
   ],
   "source": [
    "print(len(filepaths))\n",
    "print(len(labels))"
   ]
  },
  {
   "cell_type": "code",
   "execution_count": 7,
   "metadata": {
    "execution": {
     "iopub.execute_input": "2025-02-03T20:32:31.078391Z",
     "iopub.status.busy": "2025-02-03T20:32:31.078070Z",
     "iopub.status.idle": "2025-02-03T20:32:31.089816Z",
     "shell.execute_reply": "2025-02-03T20:32:31.089171Z",
     "shell.execute_reply.started": "2025-02-03T20:32:31.078368Z"
    }
   },
   "outputs": [
    {
     "name": "stdout",
     "output_type": "stream",
     "text": [
      "meningioma\n"
     ]
    }
   ],
   "source": [
    "print(labels[-1])"
   ]
  },
  {
   "cell_type": "code",
   "execution_count": 8,
   "metadata": {
    "execution": {
     "iopub.execute_input": "2025-02-03T20:32:31.090862Z",
     "iopub.status.busy": "2025-02-03T20:32:31.090634Z",
     "iopub.status.idle": "2025-02-03T20:32:31.106139Z",
     "shell.execute_reply": "2025-02-03T20:32:31.105471Z",
     "shell.execute_reply.started": "2025-02-03T20:32:31.090843Z"
    }
   },
   "outputs": [
    {
     "name": "stdout",
     "output_type": "stream",
     "text": [
      "['glioma' 'meningioma' 'notumor' 'pituitary']\n"
     ]
    }
   ],
   "source": [
    "print(np.unique(labels))"
   ]
  },
  {
   "cell_type": "code",
   "execution_count": 9,
   "metadata": {
    "execution": {
     "iopub.execute_input": "2025-02-03T20:32:31.107209Z",
     "iopub.status.busy": "2025-02-03T20:32:31.106979Z",
     "iopub.status.idle": "2025-02-03T20:32:31.120607Z",
     "shell.execute_reply": "2025-02-03T20:32:31.119910Z",
     "shell.execute_reply.started": "2025-02-03T20:32:31.107168Z"
    }
   },
   "outputs": [],
   "source": [
    "df_train = pd.DataFrame(\n",
    "    data = {\n",
    "        'filepath': filepaths,\n",
    "        'label': labels\n",
    "    }\n",
    ")"
   ]
  },
  {
   "cell_type": "code",
   "execution_count": 10,
   "metadata": {
    "execution": {
     "iopub.execute_input": "2025-02-03T20:32:31.121627Z",
     "iopub.status.busy": "2025-02-03T20:32:31.121395Z",
     "iopub.status.idle": "2025-02-03T20:32:31.149325Z",
     "shell.execute_reply": "2025-02-03T20:32:31.148573Z",
     "shell.execute_reply.started": "2025-02-03T20:32:31.121596Z"
    }
   },
   "outputs": [
    {
     "data": {
      "text/html": [
       "<div>\n",
       "<style scoped>\n",
       "    .dataframe tbody tr th:only-of-type {\n",
       "        vertical-align: middle;\n",
       "    }\n",
       "\n",
       "    .dataframe tbody tr th {\n",
       "        vertical-align: top;\n",
       "    }\n",
       "\n",
       "    .dataframe thead th {\n",
       "        text-align: right;\n",
       "    }\n",
       "</style>\n",
       "<table border=\"1\" class=\"dataframe\">\n",
       "  <thead>\n",
       "    <tr style=\"text-align: right;\">\n",
       "      <th></th>\n",
       "      <th>filepath</th>\n",
       "      <th>label</th>\n",
       "    </tr>\n",
       "  </thead>\n",
       "  <tbody>\n",
       "    <tr>\n",
       "      <th>0</th>\n",
       "      <td>data/Training/pituitary/Tr-pi_0505.jpg</td>\n",
       "      <td>pituitary</td>\n",
       "    </tr>\n",
       "    <tr>\n",
       "      <th>1</th>\n",
       "      <td>data/Training/pituitary/Tr-pi_0263.jpg</td>\n",
       "      <td>pituitary</td>\n",
       "    </tr>\n",
       "    <tr>\n",
       "      <th>2</th>\n",
       "      <td>data/Training/pituitary/Tr-pi_0277.jpg</td>\n",
       "      <td>pituitary</td>\n",
       "    </tr>\n",
       "    <tr>\n",
       "      <th>3</th>\n",
       "      <td>data/Training/pituitary/Tr-pi_1169.jpg</td>\n",
       "      <td>pituitary</td>\n",
       "    </tr>\n",
       "    <tr>\n",
       "      <th>4</th>\n",
       "      <td>data/Training/pituitary/Tr-pi_0511.jpg</td>\n",
       "      <td>pituitary</td>\n",
       "    </tr>\n",
       "  </tbody>\n",
       "</table>\n",
       "</div>"
      ],
      "text/plain": [
       "                                 filepath      label\n",
       "0  data/Training/pituitary/Tr-pi_0505.jpg  pituitary\n",
       "1  data/Training/pituitary/Tr-pi_0263.jpg  pituitary\n",
       "2  data/Training/pituitary/Tr-pi_0277.jpg  pituitary\n",
       "3  data/Training/pituitary/Tr-pi_1169.jpg  pituitary\n",
       "4  data/Training/pituitary/Tr-pi_0511.jpg  pituitary"
      ]
     },
     "execution_count": 10,
     "metadata": {},
     "output_type": "execute_result"
    }
   ],
   "source": [
    "df_train.head()"
   ]
  },
  {
   "cell_type": "code",
   "execution_count": 11,
   "metadata": {
    "execution": {
     "iopub.execute_input": "2025-02-03T20:32:31.151673Z",
     "iopub.status.busy": "2025-02-03T20:32:31.151474Z",
     "iopub.status.idle": "2025-02-03T20:32:31.154771Z",
     "shell.execute_reply": "2025-02-03T20:32:31.154032Z",
     "shell.execute_reply.started": "2025-02-03T20:32:31.151655Z"
    }
   },
   "outputs": [],
   "source": [
    "color = ['#9AA6B2','#BCCCDC','#D9EAFD','#F8FAFC']"
   ]
  },
  {
   "cell_type": "code",
   "execution_count": 12,
   "metadata": {
    "execution": {
     "iopub.execute_input": "2025-02-03T20:32:31.156236Z",
     "iopub.status.busy": "2025-02-03T20:32:31.155987Z",
     "iopub.status.idle": "2025-02-03T20:32:31.411122Z",
     "shell.execute_reply": "2025-02-03T20:32:31.410322Z",
     "shell.execute_reply.started": "2025-02-03T20:32:31.156212Z"
    }
   },
   "outputs": [
    {
     "data": {
      "image/png": "[encoded data removed]",
      "text/plain": [
       "<Figure size 640x480 with 1 Axes>"
      ]
     },
     "metadata": {},
     "output_type": "display_data"
    }
   ],
   "source": [
    "fig, ax = plt.subplots()\n",
    "bars = ax.bar(df_train['label'].unique(), df_train['label'].value_counts(),color=color)\n",
    "ax.bar_label(bars)\n",
    "plt.title('Nombre des images dans chaque categorie')\n",
    "plt.xlabel('Categorie')\n",
    "plt.ylabel('Nombre des images')\n",
    "plt.xticks(rotation=45)\n",
    "\n",
    "plt.show()\n"
   ]
  },
  {
   "cell_type": "code",
   "execution_count": 13,
   "metadata": {
    "execution": {
     "iopub.execute_input": "2025-02-03T20:32:31.412154Z",
     "iopub.status.busy": "2025-02-03T20:32:31.411914Z",
     "iopub.status.idle": "2025-02-03T20:32:31.421666Z",
     "shell.execute_reply": "2025-02-03T20:32:31.420779Z",
     "shell.execute_reply.started": "2025-02-03T20:32:31.412132Z"
    }
   },
   "outputs": [
    {
     "data": {
      "text/html": [
       "<div>\n",
       "<style scoped>\n",
       "    .dataframe tbody tr th:only-of-type {\n",
       "        vertical-align: middle;\n",
       "    }\n",
       "\n",
       "    .dataframe tbody tr th {\n",
       "        vertical-align: top;\n",
       "    }\n",
       "\n",
       "    .dataframe thead th {\n",
       "        text-align: right;\n",
       "    }\n",
       "</style>\n",
       "<table border=\"1\" class=\"dataframe\">\n",
       "  <thead>\n",
       "    <tr style=\"text-align: right;\">\n",
       "      <th></th>\n",
       "      <th>filepath</th>\n",
       "      <th>label</th>\n",
       "    </tr>\n",
       "  </thead>\n",
       "  <tbody>\n",
       "    <tr>\n",
       "      <th>1515</th>\n",
       "      <td>data/Training/notumor/Tr-no_0148.jpg</td>\n",
       "      <td>notumor</td>\n",
       "    </tr>\n",
       "    <tr>\n",
       "      <th>1317</th>\n",
       "      <td>data/Training/pituitary/Tr-pi_0457.jpg</td>\n",
       "      <td>pituitary</td>\n",
       "    </tr>\n",
       "    <tr>\n",
       "      <th>3818</th>\n",
       "      <td>data/Training/glioma/Tr-gl_0337.jpg</td>\n",
       "      <td>glioma</td>\n",
       "    </tr>\n",
       "    <tr>\n",
       "      <th>5263</th>\n",
       "      <td>data/Training/meningioma/Tr-me_0729.jpg</td>\n",
       "      <td>meningioma</td>\n",
       "    </tr>\n",
       "    <tr>\n",
       "      <th>148</th>\n",
       "      <td>data/Training/pituitary/Tr-pi_0895.jpg</td>\n",
       "      <td>pituitary</td>\n",
       "    </tr>\n",
       "  </tbody>\n",
       "</table>\n",
       "</div>"
      ],
      "text/plain": [
       "                                     filepath       label\n",
       "1515     data/Training/notumor/Tr-no_0148.jpg     notumor\n",
       "1317   data/Training/pituitary/Tr-pi_0457.jpg   pituitary\n",
       "3818      data/Training/glioma/Tr-gl_0337.jpg      glioma\n",
       "5263  data/Training/meningioma/Tr-me_0729.jpg  meningioma\n",
       "148    data/Training/pituitary/Tr-pi_0895.jpg   pituitary"
      ]
     },
     "execution_count": 13,
     "metadata": {},
     "output_type": "execute_result"
    }
   ],
   "source": [
    "df_train.sample(5)"
   ]
  },
  {
   "cell_type": "code",
   "execution_count": 14,
   "metadata": {
    "execution": {
     "iopub.execute_input": "2025-02-03T20:32:31.422776Z",
     "iopub.status.busy": "2025-02-03T20:32:31.422482Z",
     "iopub.status.idle": "2025-02-03T20:32:31.480067Z",
     "shell.execute_reply": "2025-02-03T20:32:31.479411Z",
     "shell.execute_reply.started": "2025-02-03T20:32:31.422746Z"
    }
   },
   "outputs": [
    {
     "name": "stderr",
     "output_type": "stream",
     "text": [
      "100%|█████████████████████████████████████| 300/300 [00:00<00:00, 327765.36it/s]\n",
      "100%|█████████████████████████████████████| 405/405 [00:00<00:00, 404258.24it/s]\n",
      "100%|█████████████████████████████████████| 300/300 [00:00<00:00, 433445.13it/s]\n",
      "100%|█████████████████████████████████████| 306/306 [00:00<00:00, 558267.52it/s]\n"
     ]
    }
   ],
   "source": [
    "Test_df = 'data/Testing'\n",
    "\n",
    "filepaths = []\n",
    "labels = []\n",
    "folds = os.listdir(Test_df)\n",
    "for fold in folds:\n",
    "    FoldPath = os.path.join(Test_df, fold)\n",
    "    files = os.listdir(FoldPath)\n",
    "    for file in tqdm(files):\n",
    "        filepath = os.path.join(FoldPath,file)\n",
    "        filepaths.append(filepath)\n",
    "        labels.append(fold)"
   ]
  },
  {
   "cell_type": "code",
   "execution_count": 15,
   "metadata": {
    "execution": {
     "iopub.execute_input": "2025-02-03T20:32:31.481168Z",
     "iopub.status.busy": "2025-02-03T20:32:31.480882Z",
     "iopub.status.idle": "2025-02-03T20:32:31.485196Z",
     "shell.execute_reply": "2025-02-03T20:32:31.484518Z",
     "shell.execute_reply.started": "2025-02-03T20:32:31.481140Z"
    }
   },
   "outputs": [
    {
     "name": "stdout",
     "output_type": "stream",
     "text": [
      "1311\n",
      "1311\n"
     ]
    }
   ],
   "source": [
    "print(len(filepaths))\n",
    "print(len(labels))\n"
   ]
  },
  {
   "cell_type": "code",
   "execution_count": 16,
   "metadata": {
    "execution": {
     "iopub.execute_input": "2025-02-03T20:32:31.486349Z",
     "iopub.status.busy": "2025-02-03T20:32:31.486005Z",
     "iopub.status.idle": "2025-02-03T20:32:31.499826Z",
     "shell.execute_reply": "2025-02-03T20:32:31.499132Z",
     "shell.execute_reply.started": "2025-02-03T20:32:31.486316Z"
    }
   },
   "outputs": [
    {
     "name": "stdout",
     "output_type": "stream",
     "text": [
      "['glioma' 'meningioma' 'notumor' 'pituitary']\n"
     ]
    }
   ],
   "source": [
    "print(np.unique(labels))"
   ]
  },
  {
   "cell_type": "code",
   "execution_count": 17,
   "metadata": {
    "execution": {
     "iopub.execute_input": "2025-02-03T20:32:31.500680Z",
     "iopub.status.busy": "2025-02-03T20:32:31.500474Z",
     "iopub.status.idle": "2025-02-03T20:32:31.513439Z",
     "shell.execute_reply": "2025-02-03T20:32:31.512741Z",
     "shell.execute_reply.started": "2025-02-03T20:32:31.500662Z"
    }
   },
   "outputs": [],
   "source": [
    " df_test = pd.DataFrame(\n",
    "    data = {\n",
    "        'filepath': filepaths,\n",
    "        'label': labels\n",
    "    }\n",
    ")"
   ]
  },
  {
   "cell_type": "code",
   "execution_count": 18,
   "metadata": {
    "execution": {
     "iopub.execute_input": "2025-02-03T20:32:31.514423Z",
     "iopub.status.busy": "2025-02-03T20:32:31.514199Z",
     "iopub.status.idle": "2025-02-03T20:32:31.530971Z",
     "shell.execute_reply": "2025-02-03T20:32:31.530138Z",
     "shell.execute_reply.started": "2025-02-03T20:32:31.514406Z"
    }
   },
   "outputs": [
    {
     "data": {
      "text/html": [
       "<div>\n",
       "<style scoped>\n",
       "    .dataframe tbody tr th:only-of-type {\n",
       "        vertical-align: middle;\n",
       "    }\n",
       "\n",
       "    .dataframe tbody tr th {\n",
       "        vertical-align: top;\n",
       "    }\n",
       "\n",
       "    .dataframe thead th {\n",
       "        text-align: right;\n",
       "    }\n",
       "</style>\n",
       "<table border=\"1\" class=\"dataframe\">\n",
       "  <thead>\n",
       "    <tr style=\"text-align: right;\">\n",
       "      <th></th>\n",
       "      <th>filepath</th>\n",
       "      <th>label</th>\n",
       "    </tr>\n",
       "  </thead>\n",
       "  <tbody>\n",
       "    <tr>\n",
       "      <th>0</th>\n",
       "      <td>data/Testing/pituitary/Te-pi_0233.jpg</td>\n",
       "      <td>pituitary</td>\n",
       "    </tr>\n",
       "    <tr>\n",
       "      <th>1</th>\n",
       "      <td>data/Testing/pituitary/Te-pi_0227.jpg</td>\n",
       "      <td>pituitary</td>\n",
       "    </tr>\n",
       "    <tr>\n",
       "      <th>2</th>\n",
       "      <td>data/Testing/pituitary/Te-pi_0019.jpg</td>\n",
       "      <td>pituitary</td>\n",
       "    </tr>\n",
       "    <tr>\n",
       "      <th>3</th>\n",
       "      <td>data/Testing/pituitary/Te-pi_0031.jpg</td>\n",
       "      <td>pituitary</td>\n",
       "    </tr>\n",
       "    <tr>\n",
       "      <th>4</th>\n",
       "      <td>data/Testing/pituitary/Te-pi_0025.jpg</td>\n",
       "      <td>pituitary</td>\n",
       "    </tr>\n",
       "  </tbody>\n",
       "</table>\n",
       "</div>"
      ],
      "text/plain": [
       "                                filepath      label\n",
       "0  data/Testing/pituitary/Te-pi_0233.jpg  pituitary\n",
       "1  data/Testing/pituitary/Te-pi_0227.jpg  pituitary\n",
       "2  data/Testing/pituitary/Te-pi_0019.jpg  pituitary\n",
       "3  data/Testing/pituitary/Te-pi_0031.jpg  pituitary\n",
       "4  data/Testing/pituitary/Te-pi_0025.jpg  pituitary"
      ]
     },
     "execution_count": 18,
     "metadata": {},
     "output_type": "execute_result"
    }
   ],
   "source": [
    "df_test.head()"
   ]
  },
  {
   "cell_type": "code",
   "execution_count": 19,
   "metadata": {
    "execution": {
     "iopub.execute_input": "2025-02-03T20:32:31.531809Z",
     "iopub.status.busy": "2025-02-03T20:32:31.531601Z",
     "iopub.status.idle": "2025-02-03T20:32:31.699761Z",
     "shell.execute_reply": "2025-02-03T20:32:31.698929Z",
     "shell.execute_reply.started": "2025-02-03T20:32:31.531787Z"
    }
   },
   "outputs": [
    {
     "data": {
      "image/png": "[encoded data removed]",
      "text/plain": [
       "<Figure size 640x480 with 1 Axes>"
      ]
     },
     "metadata": {},
     "output_type": "display_data"
    }
   ],
   "source": [
    "\n",
    "fig, ax = plt.subplots()\n",
    "bars = ax.bar(df_test['label'].unique(), df_test['label'].value_counts(),color=color)\n",
    "ax.bar_label(bars)\n",
    "plt.title('Nombre des images dans chaque categorie')\n",
    "plt.xlabel('Categorie')\n",
    "plt.ylabel('Nombre des images')\n",
    "plt.xticks(rotation=45)\n",
    "\n",
    "plt.show()\n"
   ]
  },
  {
   "cell_type": "markdown",
   "metadata": {},
   "source": [
    "### Partage des donnees"
   ]
  },
  {
   "cell_type": "code",
   "execution_count": 20,
   "metadata": {
    "execution": {
     "iopub.execute_input": "2025-02-03T20:32:31.700936Z",
     "iopub.status.busy": "2025-02-03T20:32:31.700627Z",
     "iopub.status.idle": "2025-02-03T20:32:31.706170Z",
     "shell.execute_reply": "2025-02-03T20:32:31.705354Z",
     "shell.execute_reply.started": "2025-02-03T20:32:31.700906Z"
    }
   },
   "outputs": [],
   "source": [
    "valid_ts, df_test = train_test_split(df_test, test_size=0.5, random_state=42)"
   ]
  },
  {
   "cell_type": "code",
   "execution_count": 21,
   "metadata": {
    "execution": {
     "iopub.execute_input": "2025-02-03T22:44:34.768995Z",
     "iopub.status.busy": "2025-02-03T22:44:34.768723Z",
     "iopub.status.idle": "2025-02-03T22:44:34.772929Z",
     "shell.execute_reply": "2025-02-03T22:44:34.772092Z",
     "shell.execute_reply.started": "2025-02-03T22:44:34.768975Z"
    }
   },
   "outputs": [],
   "source": [
    "tr_gen = ImageDataGenerator(rescale=1/255)\n",
    "ts_gen = ImageDataGenerator(rescale=1/255)\n",
    "batchsize = 32\n",
    "img_size = (224,224)"
   ]
  },
  {
   "cell_type": "code",
   "execution_count": 22,
   "metadata": {
    "execution": {
     "iopub.execute_input": "2025-02-03T22:44:39.499300Z",
     "iopub.status.busy": "2025-02-03T22:44:39.498975Z",
     "iopub.status.idle": "2025-02-03T22:44:48.899565Z",
     "shell.execute_reply": "2025-02-03T22:44:48.898691Z",
     "shell.execute_reply.started": "2025-02-03T22:44:39.499273Z"
    }
   },
   "outputs": [
    {
     "name": "stdout",
     "output_type": "stream",
     "text": [
      "Found 5712 validated image filenames belonging to 4 classes.\n",
      "Found 655 validated image filenames belonging to 4 classes.\n",
      "Found 656 validated image filenames belonging to 4 classes.\n"
     ]
    }
   ],
   "source": [
    "gen_train = tr_gen.flow_from_dataframe(df_train, x_col='filepath', y_col='label', target_size=img_size, class_mode='categorical', batch_size=batchsize, shuffle=True,color_mode='rgb')\n",
    "gen_valid = ts_gen.flow_from_dataframe(valid_ts, x_col='filepath', y_col='label', target_size=img_size, class_mode='categorical', batch_size=batchsize, shuffle=True,color_mode='rgb')\n",
    "gen_test = ts_gen.flow_from_dataframe(df_test, x_col='filepath', y_col='label', target_size=img_size, class_mode='categorical', batch_size=batchsize, shuffle=False ,color_mode='rgb')"
   ]
  },
  {
   "cell_type": "code",
   "execution_count": 23,
   "metadata": {
    "execution": {
     "iopub.execute_input": "2025-02-03T22:46:45.220560Z",
     "iopub.status.busy": "2025-02-03T22:46:45.220267Z",
     "iopub.status.idle": "2025-02-03T22:46:45.224231Z",
     "shell.execute_reply": "2025-02-03T22:46:45.223334Z",
     "shell.execute_reply.started": "2025-02-03T22:46:45.220532Z"
    }
   },
   "outputs": [],
   "source": [
    "class_dict = gen_train.class_indices\n"
   ]
  },
  {
   "cell_type": "markdown",
   "metadata": {},
   "source": [
    "#### Construction du modele"
   ]
  },
  {
   "cell_type": "code",
   "execution_count": 24,
   "metadata": {
    "execution": {
     "iopub.execute_input": "2025-02-03T23:24:07.251733Z",
     "iopub.status.busy": "2025-02-03T23:24:07.251409Z",
     "iopub.status.idle": "2025-02-03T23:24:07.346409Z",
     "shell.execute_reply": "2025-02-03T23:24:07.345539Z",
     "shell.execute_reply.started": "2025-02-03T23:24:07.251706Z"
    }
   },
   "outputs": [],
   "source": [
    "Model = Sequential([\n",
    "    Conv2D(64, kernel_size= (3,3), activation='relu', input_shape=(img_size[0],img_size[1],3)),\n",
    "    Conv2D(64, kernel_size= (3,3), activation='relu'),\n",
    "    MaxPooling2D((2,2)),\n",
    "\n",
    "    Conv2D(128, kernel_size= (3,3), activation='relu'),\n",
    "    Conv2D(128, kernel_size= (3,3), activation='relu'),\n",
    "    MaxPooling2D((2,2)),\n",
    "\n",
    "    Conv2D(265, kernel_size= (3,3), activation='relu'),\n",
    "    Conv2D(265, kernel_size= (3,3), activation='relu'),\n",
    "    MaxPooling2D((2,2)),\n",
    "\n",
    "    Conv2D(512, kernel_size= (3,3), activation='relu'),\n",
    "    Conv2D(512, kernel_size= (3,3), activation='relu'),\n",
    "    MaxPooling2D((2,2)),\n",
    "\n",
    "    Conv2D(512, kernel_size= (3,3), activation='relu'),\n",
    "    Conv2D(512, kernel_size= (3,3), activation='relu'),\n",
    "    MaxPooling2D((2,2)),\n",
    "\n",
    "    Flatten(),\n",
    "    Dense(256, activation='relu'),\n",
    "    Dense(64, activation='relu'),\n",
    "    Dropout(0,3),\n",
    "    Dense(4, activation='softmax') ])"
   ]
  },
  {
   "cell_type": "code",
   "execution_count": 25,
   "metadata": {
    "execution": {
     "iopub.execute_input": "2025-02-03T23:24:07.347800Z",
     "iopub.status.busy": "2025-02-03T23:24:07.347493Z",
     "iopub.status.idle": "2025-02-03T23:24:07.355112Z",
     "shell.execute_reply": "2025-02-03T23:24:07.354314Z",
     "shell.execute_reply.started": "2025-02-03T23:24:07.347757Z"
    }
   },
   "outputs": [
    {
     "name": "stderr",
     "output_type": "stream",
     "text": [
      "WARNING:absl:At this time, the v2.11+ optimizer `tf.keras.optimizers.Adamax` runs slowly on M1/M2 Macs, please use the legacy Keras optimizer instead, located at `tf.keras.optimizers.legacy.Adamax`.\n",
      "WARNING:absl:There is a known slowdown when using v2.11+ Keras optimizers on M1/M2 Macs. Falling back to the legacy Keras optimizer, i.e., `tf.keras.optimizers.legacy.Adamax`.\n"
     ]
    }
   ],
   "source": [
    "Model.compile(optimizer=Adamax(learning_rate=0.001), loss='categorical_crossentropy', metrics=['accuracy'])"
   ]
  },
  {
   "cell_type": "code",
   "execution_count": null,
   "metadata": {
    "execution": {
     "iopub.execute_input": "2025-02-03T23:24:10.197573Z",
     "iopub.status.busy": "2025-02-03T23:24:10.197275Z",
     "iopub.status.idle": "2025-02-03T23:40:23.437217Z",
     "shell.execute_reply": "2025-02-03T23:40:23.436472Z",
     "shell.execute_reply.started": "2025-02-03T23:24:10.197545Z"
    }
   },
   "outputs": [
    {
     "name": "stdout",
     "output_type": "stream",
     "text": [
      "Epoch 1/50\n",
      "179/179 [==============================] - 454s 3s/step - loss: 1.1362 - accuracy: 0.4484 - val_loss: 0.9592 - val_accuracy: 0.5969\n",
      "Epoch 2/50\n",
      " 55/179 [========>.....................] - ETA: 5:14 - loss: 0.8336 - accuracy: 0.6670"
     ]
    }
   ],
   "source": [
    "history = Model.fit(\n",
    "    gen_train, \n",
    "    epochs=50, \n",
    "    validation_data=gen_valid, \n",
    "    verbose=1, \n",
    "    callbacks=[tf.keras.callbacks.EarlyStopping(monitor='val_loss', patience=10, restore_best_weights=True)]\n",
    ")\n"
   ]
  },
  {
   "cell_type": "code",
   "execution_count": null,
   "metadata": {
    "execution": {
     "iopub.execute_input": "2025-02-03T23:40:57.687382Z",
     "iopub.status.busy": "2025-02-03T23:40:57.687112Z",
     "iopub.status.idle": "2025-02-03T23:41:14.217802Z",
     "shell.execute_reply": "2025-02-03T23:41:14.216935Z",
     "shell.execute_reply.started": "2025-02-03T23:40:57.687359Z"
    }
   },
   "outputs": [],
   "source": [
    "print(Model.evaluate(gen_train))\n",
    "print(Model.evaluate(gen_valid))\n",
    "print(Model.evaluate(gen_test))"
   ]
  },
  {
   "cell_type": "code",
   "execution_count": null,
   "metadata": {
    "execution": {
     "iopub.execute_input": "2025-02-03T23:45:13.570789Z",
     "iopub.status.busy": "2025-02-03T23:45:13.570470Z",
     "iopub.status.idle": "2025-02-03T23:45:13.899913Z",
     "shell.execute_reply": "2025-02-03T23:45:13.899164Z",
     "shell.execute_reply.started": "2025-02-03T23:45:13.570766Z"
    }
   },
   "outputs": [],
   "source": [
    "Model.save('Model m.h5')"
   ]
  },
  {
   "cell_type": "code",
   "execution_count": null,
   "metadata": {
    "execution": {
     "iopub.execute_input": "2025-02-03T23:48:10.864088Z",
     "iopub.status.busy": "2025-02-03T23:48:10.863779Z",
     "iopub.status.idle": "2025-02-03T23:48:13.373453Z",
     "shell.execute_reply": "2025-02-03T23:48:13.372750Z",
     "shell.execute_reply.started": "2025-02-03T23:48:10.864063Z"
    }
   },
   "outputs": [],
   "source": [
    "preds = Model.predict(gen_test)\n",
    "y_pred = np.argmax(preds, axis=1)\n"
   ]
  },
  {
   "cell_type": "code",
   "execution_count": null,
   "metadata": {
    "execution": {
     "iopub.execute_input": "2025-02-03T23:52:21.446935Z",
     "iopub.status.busy": "2025-02-03T23:52:21.446648Z",
     "iopub.status.idle": "2025-02-03T23:52:21.664008Z",
     "shell.execute_reply": "2025-02-03T23:52:21.663141Z",
     "shell.execute_reply.started": "2025-02-03T23:52:21.446914Z"
    }
   },
   "outputs": [],
   "source": [
    "cm = confusion_matrix(gen_test.classes, y_pred)\n",
    "labels = list(class_dict.keys())\n",
    "plt.figure(figsize=(10,8))\n",
    "sns.heatmap(cm, annot=True, fmt='d', cmap=color, xticklabels=labels, yticklabels=labels)\n",
    "plt.xlabel('Predicted Label')\n",
    "plt.ylabel('Truth Label')\n",
    "plt.show()"
   ]
  },
  {
   "cell_type": "code",
   "execution_count": null,
   "metadata": {
    "execution": {
     "iopub.execute_input": "2025-02-03T23:56:23.062304Z",
     "iopub.status.busy": "2025-02-03T23:56:23.061950Z",
     "iopub.status.idle": "2025-02-03T23:56:23.256943Z",
     "shell.execute_reply": "2025-02-03T23:56:23.256265Z",
     "shell.execute_reply.started": "2025-02-03T23:56:23.062276Z"
    }
   },
   "outputs": [],
   "source": [
    "plt.plot(history.history['accuracy'])\n",
    "plt.plot(history.history['val_accuracy'])\n",
    "plt.title('model accuracy')\n",
    "plt.ylabel('accuracy')\n",
    "plt.xlabel('epoch')\n",
    "plt.legend(['train', 'val'], loc='upper left')"
   ]
  },
  {
   "cell_type": "code",
   "execution_count": null,
   "metadata": {
    "execution": {
     "iopub.execute_input": "2025-02-03T23:59:04.434270Z",
     "iopub.status.busy": "2025-02-03T23:59:04.433946Z",
     "iopub.status.idle": "2025-02-03T23:59:04.632694Z",
     "shell.execute_reply": "2025-02-03T23:59:04.631777Z",
     "shell.execute_reply.started": "2025-02-03T23:59:04.434246Z"
    }
   },
   "outputs": [],
   "source": [
    "plt.plot(history.history['loss'])\n",
    "plt.plot(history.history['val_loss'])\n",
    "plt.title('model loss')\n",
    "plt.ylabel('loss')\n",
    "plt.xlabel('epoch')\n",
    "plt.legend(['train', 'val'], loc='upper left')"
   ]
  },
  {
   "cell_type": "markdown",
   "metadata": {},
   "source": [
    "Visualize model performance"
   ]
  },
  {
   "cell_type": "code",
   "execution_count": null,
   "metadata": {
    "execution": {
     "iopub.execute_input": "2025-02-04T00:03:35.599606Z",
     "iopub.status.busy": "2025-02-04T00:03:35.599282Z",
     "iopub.status.idle": "2025-02-04T00:03:35.604856Z",
     "shell.execute_reply": "2025-02-04T00:03:35.604009Z",
     "shell.execute_reply.started": "2025-02-04T00:03:35.599583Z"
    }
   },
   "outputs": [],
   "source": [
    "def predict(img_path):\n",
    "\n",
    "    \n",
    "    label = list(class_dict.keys())\n",
    "    plt.figure(figsize=(12, 12))\n",
    "    img = Image.open(img_path)\n",
    "    resized_img = img.resize((224, 224))\n",
    "    img = np.asarray(resized_img)\n",
    "    img = np.expand_dims(img, axis=0)\n",
    "    img = img / 255\n",
    "    predictions = Model.predict(img)\n",
    "    probs = list(predictions[0])\n",
    "    labels = label\n",
    "    plt.subplot(2, 1, 1)\n",
    "    plt.imshow(resized_img)\n",
    "    plt.subplot(2, 1, 2)\n",
    "    bars = plt.barh(labels, probs)\n",
    "    plt.xlabel('Probability', fontsize=15)\n",
    "    ax = plt.gca()\n",
    "    ax.bar_label(bars, fmt = '%.2f')\n",
    "    plt.show()"
   ]
  },
  {
   "cell_type": "code",
   "execution_count": null,
   "metadata": {
    "execution": {
     "iopub.execute_input": "2025-02-04T00:03:35.993103Z",
     "iopub.status.busy": "2025-02-04T00:03:35.992890Z",
     "iopub.status.idle": "2025-02-04T00:03:37.503229Z",
     "shell.execute_reply": "2025-02-04T00:03:37.502381Z",
     "shell.execute_reply.started": "2025-02-04T00:03:35.993085Z"
    }
   },
   "outputs": [],
   "source": [
    "predict('data/Testing/glioma/Te-gl_0010.jpg')"
   ]
  },
  {
   "cell_type": "code",
   "execution_count": null,
   "metadata": {
    "execution": {
     "iopub.execute_input": "2025-02-04T00:04:31.782399Z",
     "iopub.status.busy": "2025-02-04T00:04:31.782046Z",
     "iopub.status.idle": "2025-02-04T00:04:32.163816Z",
     "shell.execute_reply": "2025-02-04T00:04:32.163010Z",
     "shell.execute_reply.started": "2025-02-04T00:04:31.782371Z"
    }
   },
   "outputs": [],
   "source": [
    "predict('data/Testing/notumor/Te-no_0017.jpg')"
   ]
  },
  {
   "cell_type": "code",
   "execution_count": null,
   "metadata": {
    "execution": {
     "iopub.execute_input": "2025-02-04T00:05:15.065048Z",
     "iopub.status.busy": "2025-02-04T00:05:15.064729Z",
     "iopub.status.idle": "2025-02-04T00:05:15.444263Z",
     "shell.execute_reply": "2025-02-04T00:05:15.443503Z",
     "shell.execute_reply.started": "2025-02-04T00:05:15.065021Z"
    }
   },
   "outputs": [],
   "source": [
    "predict('data/Testing/pituitary/Te-pi_0059.jpg')"
   ]
  },
  {
   "cell_type": "markdown",
   "metadata": {},
   "source": [
    " # **NOTE** : --> It is clear that there is overfitting, so I will use a pretrained model."
   ]
  },
  {
   "cell_type": "code",
   "execution_count": null,
   "metadata": {
    "execution": {
     "iopub.execute_input": "2025-02-04T00:05:45.496589Z",
     "iopub.status.busy": "2025-02-04T00:05:45.496285Z",
     "iopub.status.idle": "2025-02-04T00:05:47.000199Z",
     "shell.execute_reply": "2025-02-04T00:05:46.999507Z",
     "shell.execute_reply.started": "2025-02-04T00:05:45.496568Z"
    }
   },
   "outputs": [],
   "source": [
    "base_model = tf.keras.applications.EfficientNetB3(\n",
    "    include_top=False,\n",
    "    weights=\"imagenet\",\n",
    "    input_shape=(img_size[0],img_size[1],3),\n",
    "    pooling='max',\n",
    ")"
   ]
  },
  {
   "cell_type": "code",
   "execution_count": null,
   "metadata": {
    "execution": {
     "iopub.execute_input": "2025-02-04T00:05:49.917721Z",
     "iopub.status.busy": "2025-02-04T00:05:49.917432Z",
     "iopub.status.idle": "2025-02-04T00:05:49.945609Z",
     "shell.execute_reply": "2025-02-04T00:05:49.944672Z",
     "shell.execute_reply.started": "2025-02-04T00:05:49.917699Z"
    }
   },
   "outputs": [],
   "source": [
    "ModelPretrained = Sequential([\n",
    "    base_model,\n",
    "    \n",
    "    Dense(256 , activation='relu'),\n",
    "    Dropout(0,3),\n",
    "    Dense(4, activation='softmax')\n",
    "    \n",
    "])\n",
    "ModelPretrained.compile(optimizer=Adamax(learning_rate=0.001), loss='categorical_crossentropy', metrics=['accuracy'])\n"
   ]
  },
  {
   "cell_type": "code",
   "execution_count": null,
   "metadata": {
    "execution": {
     "iopub.execute_input": "2025-02-04T00:05:53.029969Z",
     "iopub.status.busy": "2025-02-04T00:05:53.029685Z",
     "iopub.status.idle": "2025-02-04T00:11:31.360841Z",
     "shell.execute_reply": "2025-02-04T00:11:31.360091Z",
     "shell.execute_reply.started": "2025-02-04T00:05:53.029948Z"
    }
   },
   "outputs": [],
   "source": [
    "history_Final = ModelPretrained.fit(\n",
    "    gen_train, \n",
    "    epochs=5, \n",
    "    validation_data=gen_valid, \n",
    "    verbose=1, \n",
    "    \n",
    ")\n"
   ]
  },
  {
   "cell_type": "markdown",
   "metadata": {},
   "source": [
    "# **Testing and Evaluation**\n"
   ]
  },
  {
   "cell_type": "code",
   "execution_count": null,
   "metadata": {
    "execution": {
     "iopub.execute_input": "2025-02-04T00:12:35.688355Z",
     "iopub.status.busy": "2025-02-04T00:12:35.688032Z",
     "iopub.status.idle": "2025-02-04T00:12:56.925090Z",
     "shell.execute_reply": "2025-02-04T00:12:56.924283Z",
     "shell.execute_reply.started": "2025-02-04T00:12:35.688332Z"
    }
   },
   "outputs": [],
   "source": [
    "train_score = ModelPretrained.evaluate(gen_train, verbose=1)\n",
    "valid_score = ModelPretrained.evaluate(gen_valid, verbose=1)\n",
    "test_score = ModelPretrained.evaluate(gen_test, verbose=1)\n",
    "\n",
    "print(f\"Train Loss: {train_score[0]:.4f}\")\n",
    "print(f\"Train Accuracy: {train_score[1]*100:.2f}%\")\n",
    "print('-' * 20)\n",
    "print(f\"Validation Loss: {valid_score[0]:.4f}\")\n",
    "print(f\"Validation Accuracy: {valid_score[1]*100:.2f}%\")\n",
    "print('-' * 20)\n",
    "print(f\"Test Loss: {test_score[0]:.4f}\")\n",
    "print(f\"Test Accuracy: {test_score[1]*100:.2f}%\")"
   ]
  },
  {
   "cell_type": "code",
   "execution_count": null,
   "metadata": {
    "execution": {
     "iopub.execute_input": "2025-02-04T00:13:08.941960Z",
     "iopub.status.busy": "2025-02-04T00:13:08.941656Z",
     "iopub.status.idle": "2025-02-04T00:13:09.934515Z",
     "shell.execute_reply": "2025-02-04T00:13:09.933557Z",
     "shell.execute_reply.started": "2025-02-04T00:13:08.941936Z"
    }
   },
   "outputs": [],
   "source": [
    "ModelPretrained.save('Model Final Brain Tumor.h5')"
   ]
  },
  {
   "cell_type": "markdown",
   "metadata": {},
   "source": [
    "# **Visualize model performance**"
   ]
  },
  {
   "cell_type": "code",
   "execution_count": null,
   "metadata": {
    "execution": {
     "iopub.execute_input": "2025-02-04T00:14:40.510067Z",
     "iopub.status.busy": "2025-02-04T00:14:40.509767Z",
     "iopub.status.idle": "2025-02-04T00:14:56.223634Z",
     "shell.execute_reply": "2025-02-04T00:14:56.222954Z",
     "shell.execute_reply.started": "2025-02-04T00:14:40.510046Z"
    }
   },
   "outputs": [],
   "source": [
    "preds = ModelPretrained.predict(gen_test)\n",
    "y_pred = np.argmax(preds, axis=1)\n"
   ]
  },
  {
   "cell_type": "code",
   "execution_count": null,
   "metadata": {
    "execution": {
     "iopub.execute_input": "2025-02-04T00:15:14.027010Z",
     "iopub.status.busy": "2025-02-04T00:15:14.026705Z",
     "iopub.status.idle": "2025-02-04T00:15:14.243681Z",
     "shell.execute_reply": "2025-02-04T00:15:14.242740Z",
     "shell.execute_reply.started": "2025-02-04T00:15:14.026987Z"
    }
   },
   "outputs": [],
   "source": [
    "cm = confusion_matrix(gen_test.classes, y_pred)\n",
    "labels = list(class_dict.keys())\n",
    "plt.figure(figsize=(10,8))\n",
    "sns.heatmap(cm, annot=True, fmt='d', cmap=color, xticklabels=labels, yticklabels=labels)\n",
    "plt.xlabel('Predicted Label')\n",
    "plt.ylabel('Truth Label')\n",
    "plt.show()"
   ]
  },
  {
   "cell_type": "code",
   "execution_count": null,
   "metadata": {
    "execution": {
     "iopub.execute_input": "2025-02-04T00:16:15.422398Z",
     "iopub.status.busy": "2025-02-04T00:16:15.422058Z",
     "iopub.status.idle": "2025-02-04T00:16:15.643690Z",
     "shell.execute_reply": "2025-02-04T00:16:15.642985Z",
     "shell.execute_reply.started": "2025-02-04T00:16:15.422371Z"
    }
   },
   "outputs": [],
   "source": [
    "plt.plot(history_Final.history['accuracy'])\n",
    "plt.plot(history_Final.history['val_accuracy'])\n",
    "plt.title('model accuracy')\n",
    "plt.ylabel('accuracy')\n",
    "plt.xlabel('epoch')\n",
    "plt.legend(['train', 'val'], loc='upper left')"
   ]
  },
  {
   "cell_type": "code",
   "execution_count": null,
   "metadata": {
    "execution": {
     "iopub.execute_input": "2025-02-04T00:16:50.600492Z",
     "iopub.status.busy": "2025-02-04T00:16:50.600148Z",
     "iopub.status.idle": "2025-02-04T00:16:50.821752Z",
     "shell.execute_reply": "2025-02-04T00:16:50.820896Z",
     "shell.execute_reply.started": "2025-02-04T00:16:50.600468Z"
    }
   },
   "outputs": [],
   "source": [
    "plt.plot(history_Final.history['loss'])\n",
    "plt.plot(history_Final.history['val_loss'])\n",
    "plt.title('model loss')\n",
    "plt.ylabel('loss')\n",
    "plt.xlabel('epoch')\n",
    "plt.legend(['train', 'val'], loc='upper left')"
   ]
  },
  {
   "cell_type": "code",
   "execution_count": null,
   "metadata": {
    "execution": {
     "iopub.execute_input": "2025-02-04T00:19:44.753206Z",
     "iopub.status.busy": "2025-02-04T00:19:44.752889Z",
     "iopub.status.idle": "2025-02-04T00:19:44.758671Z",
     "shell.execute_reply": "2025-02-04T00:19:44.757865Z",
     "shell.execute_reply.started": "2025-02-04T00:19:44.753157Z"
    }
   },
   "outputs": [],
   "source": [
    "def predict(img_path):\n",
    "\n",
    "    \n",
    "    label = list(class_dict.keys())\n",
    "    plt.figure(figsize=(12, 12))\n",
    "    img = Image.open(img_path)\n",
    "    resized_img = img.resize((224, 224))\n",
    "    img = np.asarray(resized_img)\n",
    "    img = np.expand_dims(img, axis=0)\n",
    "    img = img / 255\n",
    "    predictions = ModelPretrained.predict(img)\n",
    "    probs = list(predictions[0])\n",
    "    labels = label\n",
    "    plt.subplot(2, 1, 1)\n",
    "    plt.imshow(resized_img)\n",
    "    plt.subplot(2, 1, 2)\n",
    "    bars = plt.barh(labels, probs)\n",
    "    plt.xlabel('Probability', fontsize=15)\n",
    "    ax = plt.gca()\n",
    "    ax.bar_label(bars, fmt = '%.2f')\n",
    "    plt.show()"
   ]
  },
  {
   "cell_type": "code",
   "execution_count": null,
   "metadata": {
    "execution": {
     "iopub.execute_input": "2025-02-04T00:19:45.166326Z",
     "iopub.status.busy": "2025-02-04T00:19:45.165982Z",
     "iopub.status.idle": "2025-02-04T00:19:45.575589Z",
     "shell.execute_reply": "2025-02-04T00:19:45.574696Z",
     "shell.execute_reply.started": "2025-02-04T00:19:45.166298Z"
    }
   },
   "outputs": [],
   "source": [
    "predict('data/Testing/notumor/Te-no_0017.jpg')"
   ]
  },
  {
   "cell_type": "code",
   "execution_count": null,
   "metadata": {
    "execution": {
     "iopub.execute_input": "2025-02-04T00:19:57.787717Z",
     "iopub.status.busy": "2025-02-04T00:19:57.787402Z",
     "iopub.status.idle": "2025-02-04T00:19:58.174018Z",
     "shell.execute_reply": "2025-02-04T00:19:58.173213Z",
     "shell.execute_reply.started": "2025-02-04T00:19:57.787689Z"
    }
   },
   "outputs": [],
   "source": [
    "predict('data/Testing/meningioma/Te-me_0016.jpg')"
   ]
  },
  {
   "cell_type": "code",
   "execution_count": null,
   "metadata": {},
   "outputs": [],
   "source": []
  }
 ],
 "metadata": {
  "kernelspec": {
   "display_name": "Python 3",
   "language": "python",
   "name": "python3"
  },
  "language_info": {
   "codemirror_mode": {
    "name": "ipython",
    "version": 3
   },
   "file_extension": ".py",
   "mimetype": "text/x-python",
   "name": "python",
   "nbconvert_exporter": "python",
   "pygments_lexer": "ipython3",
   "version": "3.13.1"
  }
 },
 "nbformat": 4,
 "nbformat_minor": 4
}
