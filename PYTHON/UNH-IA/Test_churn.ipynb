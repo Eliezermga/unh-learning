{
 "cells": [
  {
   "cell_type": "code",
   "execution_count": 2,
   "id": "e668b0a1-10ba-4b23-a97c-f3e788d52eaf",
   "metadata": {},
   "outputs": [],
   "source": [
    "# Importation des bibliothèques nécessaires\n",
    "import numpy as np\n",
    "import pandas as pd\n",
    "import joblib\n",
    "from sklearn.metrics import classification_report"
   ]
  },
  {
   "cell_type": "code",
   "execution_count": null,
   "id": "1257997e-100e-4744-bd01-6a0660ef3a5d",
   "metadata": {},
   "outputs": [
    {
     "name": "stdout",
     "output_type": "stream",
     "text": [
      " Données de test chargées avec succès.\n"
     ]
    }
   ],
   "source": [
    "# Chargement des données de test\n",
    "try:\n",
    "    X_test = np.loadtxt(\"X_test.csv\", delimiter=\",\")\n",
    "    y_test = joblib.load(\"y_test.pkl\")  # il faut s'Assurer que le fichier existe\n",
    "    print(\" Données de test chargées avec succès.\")\n",
    "except FileNotFoundError as e:\n",
    "    print(f\" Erreur : {e}\")"
   ]
  },
  {
   "cell_type": "code",
   "execution_count": 4,
   "id": "3d6c81e8-52d2-4dde-834b-6b26e16fe30f",
   "metadata": {},
   "outputs": [
    {
     "name": "stdout",
     "output_type": "stream",
     "text": [
      "✅ Modèle arbre_de_décision.model chargé avec succès.\n",
      "✅ Modèle forêt_aléatoire.model chargé avec succès.\n",
      "✅ Modèle régression_logistique.model chargé avec succès.\n",
      "✅ Modèle réseau_de_neurones.model chargé avec succès.\n"
     ]
    }
   ],
   "source": [
    "# Chargement des modèles sauvegardés\n",
    "model_names = [\"arbre_de_décision.model\", \"forêt_aléatoire.model\", \"régression_logistique.model\", \"réseau_de_neurones.model\"]\n",
    "loaded_models = {}\n",
    "\n",
    "for model_name in model_names:\n",
    "    try:\n",
    "        model = joblib.load(model_name)\n",
    "        loaded_models[model_name] = model\n",
    "        print(f\"✅ Modèle {model_name} chargé avec succès.\")\n",
    "    except FileNotFoundError:\n",
    "        print(f\" Erreur : Modèle {model_name} introuvable.\")"
   ]
  },
  {
   "cell_type": "code",
   "execution_count": 5,
   "id": "1cf4b6c9-9bd3-4018-ad69-41a3deca4d01",
   "metadata": {},
   "outputs": [
    {
     "name": "stdout",
     "output_type": "stream",
     "text": [
      "\n",
      " Résultats pour arbre_de_décision.model :\n",
      "              precision    recall  f1-score   support\n",
      "\n",
      "           0       0.81      0.83      0.82      1036\n",
      "           1       0.49      0.46      0.47       373\n",
      "\n",
      "    accuracy                           0.73      1409\n",
      "   macro avg       0.65      0.64      0.64      1409\n",
      "weighted avg       0.72      0.73      0.73      1409\n",
      "\n",
      "\n",
      " Résultats pour forêt_aléatoire.model :\n",
      "              precision    recall  f1-score   support\n",
      "\n",
      "           0       0.83      0.92      0.87      1036\n",
      "           1       0.67      0.48      0.56       373\n",
      "\n",
      "    accuracy                           0.80      1409\n",
      "   macro avg       0.75      0.70      0.71      1409\n",
      "weighted avg       0.79      0.80      0.79      1409\n",
      "\n",
      "\n",
      " Résultats pour régression_logistique.model :\n",
      "              precision    recall  f1-score   support\n",
      "\n",
      "           0       0.85      0.91      0.88      1036\n",
      "           1       0.68      0.56      0.61       373\n",
      "\n",
      "    accuracy                           0.81      1409\n",
      "   macro avg       0.77      0.73      0.75      1409\n",
      "weighted avg       0.81      0.81      0.81      1409\n",
      "\n",
      "\n",
      " Résultats pour réseau_de_neurones.model :\n",
      "              precision    recall  f1-score   support\n",
      "\n",
      "           0       0.84      0.87      0.85      1036\n",
      "           1       0.59      0.53      0.56       373\n",
      "\n",
      "    accuracy                           0.78      1409\n",
      "   macro avg       0.71      0.70      0.70      1409\n",
      "weighted avg       0.77      0.78      0.77      1409\n",
      "\n"
     ]
    }
   ],
   "source": [
    "# Vérification des performances des modèles chargés\n",
    "for model_name, model in loaded_models.items():\n",
    "    y_pred = model.predict(X_test)\n",
    "    \n",
    "    print(f\"\\n Résultats pour {model_name} :\")\n",
    "    print(classification_report(y_test, y_pred))"
   ]
  },
  {
   "cell_type": "code",
   "execution_count": null,
   "id": "7d125471-f120-4579-ab32-461ba9d13008",
   "metadata": {},
   "outputs": [],
   "source": []
  }
 ],
 "metadata": {
  "kernelspec": {
   "display_name": "Python 3",
   "language": "python",
   "name": "python3"
  },
  "language_info": {
   "codemirror_mode": {
    "name": "ipython",
    "version": 3
   },
   "file_extension": ".py",
   "mimetype": "text/x-python",
   "name": "python",
   "nbconvert_exporter": "python",
   "pygments_lexer": "ipython3",
   "version": "3.13.1"
  }
 },
 "nbformat": 4,
 "nbformat_minor": 5
}
